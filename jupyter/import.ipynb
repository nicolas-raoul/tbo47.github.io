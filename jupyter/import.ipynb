{
 "cells": [
  {
   "cell_type": "code",
   "execution_count": 2,
   "metadata": {},
   "outputs": [
    {
     "name": "stderr",
     "output_type": "stream",
     "text": [
      "UsageError: Line magic function `%.venv/bin/activate` not found.\n"
     ]
    }
   ],
   "source": [
    "%pip install gdown\n",
    "\n",
    "# !{sys.executable} -m venv .venv\n",
    "# % .venv/bin/activate\n",
    "# !{sys.executable} -m pip install gdown\n",
    "\n",
    "print(\"world!\")\n",
    "url ='https://docs.google.com/spreadsheets/d/1XUjqeXVgjZJ8jVNAn9MeIb9zHLhVj4mwRs-hk1P050o/edit?usp=sharing'\n",
    "\n",
    "gdown.download(url, 'myfile.csv, quiet=False')"
   ]
  }
 ],
 "metadata": {
  "kernelspec": {
   "display_name": "Python 3",
   "language": "python",
   "name": "python3"
  },
  "language_info": {
   "codemirror_mode": {
    "name": "ipython",
    "version": 3
   },
   "file_extension": ".py",
   "mimetype": "text/x-python",
   "name": "python",
   "nbconvert_exporter": "python",
   "pygments_lexer": "ipython3",
   "version": "3.11.2"
  },
  "orig_nbformat": 4
 },
 "nbformat": 4,
 "nbformat_minor": 2
}
